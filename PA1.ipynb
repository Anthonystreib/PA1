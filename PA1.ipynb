{
 "cells": [
  {
   "cell_type": "markdown",
   "id": "e5efe76c",
   "metadata": {},
   "source": [
    "# Anthony Streib\n",
    "### I am a freshman physics major and this is a required class"
   ]
  },
  {
   "cell_type": "markdown",
   "id": "fd816ba9",
   "metadata": {},
   "source": [
    "* Programming assignments\n",
    "* Quizzes\n",
    "* 2 mid-term exams\n",
    "* 2 projects"
   ]
  },
  {
   "cell_type": "markdown",
   "id": "edc16375",
   "metadata": {},
   "source": [
    " 1. Chapter 1\n",
    " 2. chapter 2\n",
    " 3. Chapter 3\n",
    " 4. Chapter 4\n",
    " 5. Chapter 5\n",
    " 6. Chapter 6\n",
    " 7. Chapter 7\n",
    " 8. Chapter 8.11\n",
    " 9. Chapter 9.11"
   ]
  },
  {
   "cell_type": "markdown",
   "id": "b23a6593",
   "metadata": {},
   "source": [
    "**I will learn Python language**"
   ]
  },
  {
   "cell_type": "markdown",
   "id": "88c3ec63",
   "metadata": {},
   "source": [
    "*I will use Jupyter Notebook*"
   ]
  },
  {
   "cell_type": "markdown",
   "id": "cfa91265",
   "metadata": {},
   "source": [
    "I always ask people I meet what `their favorite sport` is"
   ]
  },
  {
   "cell_type": "markdown",
   "id": "37514273",
   "metadata": {},
   "source": [
    "<a href=\"https://github.com/login?\">https://github.com/Anthonystreib</a>"
   ]
  },
  {
   "cell_type": "markdown",
   "id": "a5cd526b",
   "metadata": {},
   "source": [
    "![Bellarmine logo](https://upload.wikimedia.org/wikipedia/en/thumb/4/4e/Bellarmine_Knights_logo.svg/1200px-Bellarmine_Knights_logo.svg.png)"
   ]
  },
  {
   "cell_type": "markdown",
   "id": "e23f8a73",
   "metadata": {},
   "source": [
    "What I learned from this markdown practice is how to get a better understanding of the program and coding. This seems to be interesting and I'm curious as to what else can be done with this program and coding language in the future. This was confusing to start but as I went it got kinda easier to understand and figure out. This practice seemed to be pretty simple and I figured it out after a couple of minutes looking at what I needed to do and how to do it."
   ]
  }
 ],
 "metadata": {
  "kernelspec": {
   "display_name": "Python 3 (ipykernel)",
   "language": "python",
   "name": "python3"
  },
  "language_info": {
   "codemirror_mode": {
    "name": "ipython",
    "version": 3
   },
   "file_extension": ".py",
   "mimetype": "text/x-python",
   "name": "python",
   "nbconvert_exporter": "python",
   "pygments_lexer": "ipython3",
   "version": "3.11.4"
  }
 },
 "nbformat": 4,
 "nbformat_minor": 5
}
